{
 "cells": [
  {
   "cell_type": "code",
   "execution_count": 1,
   "metadata": {},
   "outputs": [],
   "source": [
    "import psycopg2\n",
    "import params"
   ]
  },
  {
   "cell_type": "code",
   "execution_count": 2,
   "metadata": {},
   "outputs": [],
   "source": [
    "try:\n",
    "    conn = psycopg2.connect(\n",
    "        host = params.host, \n",
    "        dbname = params.dbname, \n",
    "        user = params.user, \n",
    "        password = params.password, \n",
    "        port = params.port)\n",
    "    cur = conn.cursor()\n",
    "\n",
    "except (Exception, psycopg2.Error) as error:\n",
    "    print(\"Error en la apertura de base de datos: \\n\\t{}\".format(error))\n",
    "    conn = psycopg2.connect(\n",
    "        host = params.host, \n",
    "        dbname = 'postgres', \n",
    "        user = params.user, \n",
    "        password = params.password, \n",
    "        port = params.port)\n",
    "    cur = conn.cursor()\n",
    "    \n",
    "    conn.set_session(autocommit=True)\n",
    "    cur.execute(\"CREATE DATABASE repartos_test;\")\n",
    "\n",
    "    conn = psycopg2.connect(\n",
    "        host = params.host, \n",
    "        dbname = params.dbname, \n",
    "        user = params.user, \n",
    "        password = params.password, \n",
    "        port = params.port)\n",
    "    cur = conn.cursor()"
   ]
  },
  {
   "cell_type": "code",
   "execution_count": 7,
   "metadata": {},
   "outputs": [],
   "source": [
    "try:\n",
    "    cur.execute(\"\"\"CREATE TABLE IF NOT EXISTS clientes(\n",
    "        id SERIAL PRIMARY KEY,\n",
    "        nombre VARCHAR(50) NOT NULL,\n",
    "        email VARCHAR(50) NOT NULL,\n",
    "        direccion VARCHAR(250) NOT NULL,\n",
    "        latitud NUMERIC(9,6) NOT NULL,\n",
    "        longitud NUMERIC(9,6) NOT NULL\n",
    "    );\n",
    "    \"\"\")\n",
    "    conn.commit()\n",
    "except Exception:\n",
    "    conn.rollback()\n",
    "    raise Exception"
   ]
  },
  {
   "cell_type": "code",
   "execution_count": 8,
   "metadata": {},
   "outputs": [],
   "source": [
    "try:\n",
    "    cur.execute(\"\"\"CREATE TABLE IF NOT EXISTS comercios(\n",
    "        id SMALLSERIAL PRIMARY KEY,\n",
    "        nombre VARCHAR(50) NOT NULL,\n",
    "        zona SMALLINT NOT NULL,\n",
    "        direccion VARCHAR(250) NOT NULL,\n",
    "        tipo VARCHAR(50) NOT NULL,\n",
    "        latitud NUMERIC(9,6) NOT NULL,\n",
    "        longitud NUMERIC(9,6) NOT NULL\n",
    "    );\n",
    "    \"\"\")\n",
    "    conn.commit()\n",
    "except Exception:\n",
    "    conn.rollback()\n",
    "    raise Exception"
   ]
  },
  {
   "cell_type": "code",
   "execution_count": 9,
   "metadata": {},
   "outputs": [],
   "source": [
    "try:\n",
    "    cur.execute(\"\"\"ALTER TABLE comercios \n",
    "        ADD COLUMN IF NOT EXISTS \n",
    "            horario_L VARCHAR(50),\n",
    "        ADD COLUMN IF NOT EXISTS \n",
    "            horario_M VARCHAR(50),\n",
    "        ADD COLUMN IF NOT EXISTS \n",
    "            horario_X VARCHAR(50),\n",
    "        ADD COLUMN IF NOT EXISTS \n",
    "            horario_J VARCHAR(50),\n",
    "        ADD COLUMN IF NOT EXISTS \n",
    "            horario_V VARCHAR(50),\n",
    "        ADD COLUMN IF NOT EXISTS \n",
    "            horario_S VARCHAR(50),\n",
    "        ADD COLUMN IF NOT EXISTS \n",
    "            horario_D VARCHAR(50);\n",
    "    \"\"\")\n",
    "    conn.commit()\n",
    "except Exception:\n",
    "    conn.rollback()\n",
    "    raise Exception"
   ]
  },
  {
   "cell_type": "code",
   "execution_count": 10,
   "metadata": {},
   "outputs": [],
   "source": [
    "try:\n",
    "    cur.execute(\"\"\"CREATE TABLE IF NOT EXISTS repartidores(\n",
    "        id SMALLSERIAL PRIMARY KEY NOT NULL,\n",
    "        nombre VARCHAR(50) NOT NULL,\n",
    "        email VARCHAR(50) NOT NULL,\n",
    "        status BOOLEAN NOT NULL,\n",
    "        vehiculo VARCHAR(50) NOT NULL,\n",
    "        ocupado BOOLEAN,\n",
    "        zona SMALLINT,\n",
    "        latitud NUMERIC(9,6),\n",
    "        longitud NUMERIC(9,6),\n",
    "        datetime_ult_act TIMESTAMP\n",
    "        );\n",
    "        \"\"\")\n",
    "\n",
    "    conn.commit()\n",
    "except Exception:\n",
    "    conn.rollback()\n",
    "    raise Exception"
   ]
  },
  {
   "cell_type": "code",
   "execution_count": 11,
   "metadata": {},
   "outputs": [],
   "source": [
    "try:\n",
    "    cur.execute(\"\"\"CREATE TABLE IF NOT EXISTS pedidos(\n",
    "        id_pedido SERIAL PRIMARY KEY NOT NULL,\n",
    "        id_cliente INTEGER NOT NULL,\n",
    "        id_comercio SMALLINT NOT NULL,\n",
    "        id_repartidor SMALLINT,\n",
    "        latitud NUMERIC(9,6) NOT NULL,\n",
    "        longitud NUMERIC(9,6) NOT NULL,\n",
    "        datetime_pedido TIMESTAMP NOT NULL,\n",
    "        tamaño REAL,\n",
    "        FOREIGN KEY (id_cliente) REFERENCES clientes(id),\n",
    "        FOREIGN KEY (id_comercio) REFERENCES comercios(id),\n",
    "        FOREIGN KEY (id_repartidor) REFERENCES repartidores(id)\n",
    "        );\n",
    "        \"\"\")\n",
    "    conn.commit()\n",
    "except Exception:\n",
    "    conn.rollback()\n",
    "    raise Exception"
   ]
  },
  {
   "cell_type": "code",
   "execution_count": 3,
   "metadata": {},
   "outputs": [],
   "source": [
    "cur.close()\n",
    "conn.close()"
   ]
  }
 ],
 "metadata": {
  "kernelspec": {
   "display_name": "Repartos",
   "language": "python",
   "name": "python3"
  },
  "language_info": {
   "codemirror_mode": {
    "name": "ipython",
    "version": 3
   },
   "file_extension": ".py",
   "mimetype": "text/x-python",
   "name": "python",
   "nbconvert_exporter": "python",
   "pygments_lexer": "ipython3",
   "version": "3.9.13"
  },
  "orig_nbformat": 4
 },
 "nbformat": 4,
 "nbformat_minor": 2
}
